{
 "cells": [
  {
   "cell_type": "markdown",
   "id": "38d7dd7c",
   "metadata": {},
   "source": [
    "## PyTorch installation\n",
    "Refer to Project 0 for instructions how to install all required libraries below using conda"
   ]
  },
  {
   "cell_type": "code",
   "execution_count": 1,
   "id": "ea4a7bbf",
   "metadata": {},
   "outputs": [],
   "source": [
    "import os\n",
    "import torch\n",
    "from torchvision import datasets, transforms\n",
    "import matplotlib.pyplot as plt # plotting\n",
    "import numpy \n",
    "import numpy as np\n",
    "from torch import nn, optim\n",
    "import torch.nn.functional as F"
   ]
  },
  {
   "cell_type": "code",
   "execution_count": 2,
   "id": "5de8714b-b9d6-4568-818b-2cf564cb47e4",
   "metadata": {},
   "outputs": [
    {
     "name": "stdout",
     "output_type": "stream",
     "text": [
      "1\n",
      "Device 0 : b'NVIDIA GeForce RTX 3080 Ti'\n"
     ]
    }
   ],
   "source": [
    "#check the version of the GPU\n",
    "from pynvml import *\n",
    "nvmlInit()\n",
    " \n",
    "deviceCount = nvmlDeviceGetCount()\n",
    "print(deviceCount)\n",
    " \n",
    "for i in range(deviceCount):\n",
    "    handle = nvmlDeviceGetHandleByIndex(i)\n",
    "    print (\"Device\", i, \":\", nvmlDeviceGetName(handle))\n"
   ]
  },
  {
   "cell_type": "markdown",
   "id": "1f8ccc71",
   "metadata": {},
   "source": [
    "## Download the Fashion MNIST dataset\n",
    "\n",
    "And convert it into a format (a tensor) that pytorch understands. A tensor can be thought of as matrix (you get to define the dimensions).\n",
    "\n",
    "Feed the raw images and their labels into a DataLoader that will serve them up in batches to train the model."
   ]
  },
  {
   "cell_type": "code",
   "execution_count": 3,
   "id": "5eab35df",
   "metadata": {},
   "outputs": [],
   "source": [
    "# Define a transform for the data\n",
    "transform = transforms.Compose([transforms.ToTensor()])\n",
    "\n",
    "# Download and load the training data\n",
    "trainset = datasets.FashionMNIST('~/.pytorch/F_MNIST_data/', download=True, train=True, transform=transform)\n",
    "'''\n",
    "#separate the training set into train and validation\n",
    "train_size = int(0.8 * len(trainset))\n",
    "test_size = len(trainset) - train_size\n",
    "trainset, valset = torch.utils.data.random_split(trainset, [train_size, test_size])\n",
    "valloader  = torch.utils.data.DataLoader(valset, batch_size=64, shuffle=True)\n",
    "'''\n",
    "trainloader = torch.utils.data.DataLoader(trainset, batch_size=64, shuffle=True)\n",
    "\n",
    "\n",
    "# Download and load the test data\n",
    "testset = datasets.FashionMNIST('~/.pytorch/F_MNIST_data/', download=True, train=False, transform=transform)\n",
    "testloader = torch.utils.data.DataLoader(testset, batch_size=64, shuffle=True)"
   ]
  },
  {
   "cell_type": "markdown",
   "id": "05438cb2-a5c7-4465-8203-9e1103ea7d5e",
   "metadata": {},
   "source": [
    "# 1. Notebook is able to execute completely the sample code"
   ]
  },
  {
   "cell_type": "markdown",
   "id": "d2330473-9925-4bc1-80c6-b67fa0ecd796",
   "metadata": {},
   "source": [
    "# 2.Notebook shows evidence of being able to train on the CPU (or GPU)"
   ]
  },
  {
   "cell_type": "code",
   "execution_count": 4,
   "id": "c047b1e0-7446-445b-8252-41b76c76aff3",
   "metadata": {},
   "outputs": [],
   "source": [
    "torch.cuda.is_available()\n",
    "device = torch.device('cuda:0')"
   ]
  },
  {
   "cell_type": "code",
   "execution_count": 5,
   "id": "454d3d01-33b7-494b-8239-937f4f4f7c23",
   "metadata": {},
   "outputs": [
    {
     "data": {
      "text/plain": [
       "True"
      ]
     },
     "execution_count": 5,
     "metadata": {},
     "output_type": "execute_result"
    }
   ],
   "source": [
    "torch.cuda.is_available()"
   ]
  },
  {
   "cell_type": "code",
   "execution_count": null,
   "id": "321866f7-2607-4f4b-b505-b8d9a8339e1b",
   "metadata": {},
   "outputs": [],
   "source": []
  },
  {
   "cell_type": "markdown",
   "id": "539ed5cc",
   "metadata": {},
   "source": [
    "## View a sample image and label\n",
    "We need to reshape the tensor and feed those pixels into a display library"
   ]
  },
  {
   "cell_type": "code",
   "execution_count": 6,
   "id": "99a03498",
   "metadata": {},
   "outputs": [
    {
     "name": "stdout",
     "output_type": "stream",
     "text": [
      "Label of image tensor(4)\n",
      "(1, 28, 28)\n"
     ]
    },
    {
     "data": {
      "image/png": "[encoded data removed]",
      "text/plain": [
       "<Figure size 432x288 with 1 Axes>"
      ]
     },
     "metadata": {
      "needs_background": "light"
     },
     "output_type": "display_data"
    }
   ],
   "source": [
    "tensor_image, label = next(iter(trainloader)) # returns a batch of images\n",
    "print(\"Label of image\", label[0])\n",
    "first_image = numpy.array(tensor_image, dtype='float')[0] # get the first image in the batch\n",
    "print(first_image.shape)\n",
    "pixels = first_image.reshape((28, 28))\n",
    "pixels.shape\n",
    "plt.imshow(pixels, cmap='gray')\n",
    "plt.show()"
   ]
  },
  {
   "cell_type": "markdown",
   "id": "f0fb212b",
   "metadata": {},
   "source": [
    "## Define your model\n",
    "We will have three hidden layers, an input later, and then an output layer. All nodes are Linear nodes (using linear activation).\n",
    "\n",
    "The input layer takes 784 == 28x28 features, corresponding to our greyscale input images.\n",
    "The three hidden layers have 256, 128, and 64 neurons respectively; each previous layer's neurons all feed into each neuron in the next layer (\"fully connected\").\n",
    "The final layer has ten neurons, one representing each of the ten possible classes for this model.\n",
    "\n",
    "Under the forward method, we define the activation function for each later: we're using ReLu for all the hidden layers. In the last layer, we're switching to softmax so we can get the probabilities for each class."
   ]
  },
  {
   "cell_type": "code",
   "execution_count": 7,
   "id": "6335f4cf",
   "metadata": {},
   "outputs": [],
   "source": [
    "\n",
    "\n",
    "# Define your network architecture here\n",
    "class Classifier(nn.Module):\n",
    "    def __init__(self):\n",
    "        super().__init__()\n",
    "        self.fc1 = nn.Linear(784, 256)\n",
    "        self.fc2 = nn.Linear(256, 128)\n",
    "        self.fc3 = nn.Linear(128, 64)\n",
    "        self.fc4 = nn.Linear(64, 10)\n",
    "        \n",
    "    def forward(self, x):\n",
    "        # make sure input tensor is flattened\n",
    "        x = x.view(x.shape[0], -1)\n",
    "        \n",
    "        x = F.relu(self.fc1(x))\n",
    "        x = F.relu(self.fc2(x))\n",
    "        x = F.relu(self.fc3(x))\n",
    "        x = F.softmax(self.fc4(x), dim=1)\n",
    "        \n",
    "        return x\n"
   ]
  },
  {
   "cell_type": "markdown",
   "id": "14ab167c-417c-40dd-a7ba-4eadb41bdd40",
   "metadata": {},
   "source": [
    "# 3. Correctly generates a graph of the training and validation loss curves overlaid"
   ]
  },
  {
   "cell_type": "markdown",
   "id": "644bef2c",
   "metadata": {},
   "source": [
    "## Training the model\n",
    "We choose a learning rate (lr) and some number of epochs, with the goal that the loss is going down each epoch until model convergence on the minimum loss (estimated)."
   ]
  },
  {
   "cell_type": "code",
   "execution_count": 8,
   "id": "7651a943",
   "metadata": {},
   "outputs": [
    {
     "name": "stdout",
     "output_type": "stream",
     "text": [
      "In epoch 0\n",
      "\tTraining loss: 1.8858906739810382\n",
      "\tValidation loss: 1.71321488869418\n",
      "In epoch 1\n",
      "\tTraining loss: 1.7160822151820543\n",
      "\tValidation loss: 1.7293530262199936\n",
      "In epoch 2\n",
      "\tTraining loss: 1.698003538127647\n",
      "\tValidation loss: 1.722241693241581\n",
      "In epoch 3\n",
      "\tTraining loss: 1.6888829753088799\n",
      "\tValidation loss: 1.7052380476787592\n",
      "In epoch 4\n",
      "\tTraining loss: 1.6799844023007064\n",
      "\tValidation loss: 1.6947394730938468\n",
      "In epoch 5\n",
      "\tTraining loss: 1.67444225389566\n",
      "\tValidation loss: 1.6749569511717293\n",
      "In epoch 6\n",
      "\tTraining loss: 1.6698659208537674\n",
      "\tValidation loss: 1.6714796830134786\n",
      "In epoch 7\n",
      "\tTraining loss: 1.6677227241398176\n",
      "\tValidation loss: 1.6792283301140851\n",
      "In epoch 8\n",
      "\tTraining loss: 1.6659866061800324\n",
      "\tValidation loss: 1.6871404389666904\n",
      "In epoch 9\n",
      "\tTraining loss: 1.6640548960232278\n",
      "\tValidation loss: 1.6790792167566384\n",
      "In epoch 10\n",
      "\tTraining loss: 1.6609886447503877\n",
      "\tValidation loss: 1.694714645671237\n",
      "In epoch 11\n",
      "\tTraining loss: 1.6597422630802146\n",
      "\tValidation loss: 1.66698644950891\n",
      "In epoch 12\n",
      "\tTraining loss: 1.6582129689167813\n",
      "\tValidation loss: 1.6649642537353904\n",
      "In epoch 13\n",
      "\tTraining loss: 1.657206141109914\n",
      "\tValidation loss: 1.678121772541362\n",
      "In epoch 14\n",
      "\tTraining loss: 1.655510624969946\n",
      "\tValidation loss: 1.6600169672328196\n",
      "In epoch 15\n",
      "\tTraining loss: 1.653666375796678\n",
      "\tValidation loss: 1.670597879749954\n",
      "In epoch 16\n",
      "\tTraining loss: 1.6526670771112828\n",
      "\tValidation loss: 1.6753094545595206\n",
      "In epoch 17\n",
      "\tTraining loss: 1.652443014101179\n",
      "\tValidation loss: 1.6640552692352586\n",
      "In epoch 18\n",
      "\tTraining loss: 1.6499570617035253\n",
      "\tValidation loss: 1.7271986387337848\n",
      "In epoch 19\n",
      "\tTraining loss: 1.6491753436100762\n",
      "\tValidation loss: 1.6856786316367471\n",
      "In epoch 20\n",
      "\tTraining loss: 1.6503676817869581\n",
      "\tValidation loss: 1.6594411203056385\n",
      "In epoch 21\n",
      "\tTraining loss: 1.647038763265874\n",
      "\tValidation loss: 1.661737748771716\n",
      "In epoch 22\n",
      "\tTraining loss: 1.6491557620227464\n",
      "\tValidation loss: 1.664864196898831\n",
      "In epoch 23\n",
      "\tTraining loss: 1.64661893305748\n",
      "\tValidation loss: 1.6624074293549653\n",
      "In epoch 24\n",
      "\tTraining loss: 1.6478999929387432\n",
      "\tValidation loss: 1.6546375295918458\n",
      "In epoch 25\n",
      "\tTraining loss: 1.6426687595178324\n",
      "\tValidation loss: 1.6621742073897343\n",
      "In epoch 26\n",
      "\tTraining loss: 1.6334489784769413\n",
      "\tValidation loss: 1.6267247253162846\n",
      "In epoch 27\n",
      "\tTraining loss: 1.596306364927719\n",
      "\tValidation loss: 1.6110858074419059\n",
      "In epoch 28\n",
      "\tTraining loss: 1.592612914693381\n",
      "\tValidation loss: 1.6061229629881064\n",
      "In epoch 29\n",
      "\tTraining loss: 1.5885802841644043\n",
      "\tValidation loss: 1.5997453647054685\n",
      "In epoch 30\n",
      "\tTraining loss: 1.5883609037409459\n",
      "\tValidation loss: 1.6050399124242698\n",
      "In epoch 31\n",
      "\tTraining loss: 1.5881647378651065\n",
      "\tValidation loss: 1.604994174781119\n",
      "In epoch 32\n",
      "\tTraining loss: 1.5839260624670017\n",
      "\tValidation loss: 1.5958917596537596\n",
      "In epoch 33\n",
      "\tTraining loss: 1.5856886121001579\n",
      "\tValidation loss: 1.607394383971099\n",
      "In epoch 34\n",
      "\tTraining loss: 1.5859383295085638\n",
      "\tValidation loss: 1.6015628204224215\n",
      "In epoch 35\n",
      "\tTraining loss: 1.5863798183164617\n",
      "\tValidation loss: 1.6005957217732811\n",
      "In epoch 36\n",
      "\tTraining loss: 1.582536576780429\n",
      "\tValidation loss: 1.6278141008061209\n",
      "In epoch 37\n",
      "\tTraining loss: 1.5846152916900131\n",
      "\tValidation loss: 1.6011461740846087\n",
      "In epoch 38\n",
      "\tTraining loss: 1.5818843480620557\n",
      "\tValidation loss: 1.6054986054730263\n",
      "In epoch 39\n",
      "\tTraining loss: 1.5839212010664219\n",
      "\tValidation loss: 1.6034657985541472\n",
      "In epoch 40\n",
      "\tTraining loss: 1.5793936223363572\n",
      "\tValidation loss: 1.5986027429058294\n",
      "In epoch 41\n",
      "\tTraining loss: 1.582147819146927\n",
      "\tValidation loss: 1.5955276010902064\n",
      "In epoch 42\n",
      "\tTraining loss: 1.5799347570201736\n",
      "\tValidation loss: 1.6004834653465612\n",
      "In epoch 43\n",
      "\tTraining loss: 1.5776068235257033\n",
      "\tValidation loss: 1.6059820507742038\n",
      "In epoch 44\n",
      "\tTraining loss: 1.5798374974905556\n",
      "\tValidation loss: 1.6053781091787254\n",
      "In epoch 45\n",
      "\tTraining loss: 1.5790111461936285\n",
      "\tValidation loss: 1.6106782027870228\n",
      "In epoch 46\n",
      "\tTraining loss: 1.5776255564140613\n",
      "\tValidation loss: 1.598845377089871\n",
      "In epoch 47\n",
      "\tTraining loss: 1.5790606442290838\n",
      "\tValidation loss: 1.597914434542322\n",
      "In epoch 48\n",
      "\tTraining loss: 1.579534738429828\n",
      "\tValidation loss: 1.597406680416909\n",
      "In epoch 49\n",
      "\tTraining loss: 1.5802220126459086\n",
      "\tValidation loss: 1.5958811652128864\n"
     ]
    }
   ],
   "source": [
    "# Create the custom network above, define the loss criterion, and choose an optimizer to learn weights\n",
    "model = Classifier()\n",
    "model = model.to(device)\n",
    "loss_criterion = nn.CrossEntropyLoss().to(device)\n",
    "optimizer = optim.SGD(model.parameters(), lr=0.3)\n",
    "\n",
    "# Train the network here\n",
    "epochs = 50\n",
    "\n",
    "# This two lists is used in graphing.\n",
    "epochs_training_loss = np.array([], dtype='float64')\n",
    "epochs_val_loss = np.array([], dtype='float64')\n",
    "\n",
    "for e in range(epochs):\n",
    "    print(\"In epoch\", e)\n",
    "    running_loss = 0\n",
    "    val_running_loss = 0\n",
    "    model.train()\n",
    "    for images, labels in trainloader: # processing one batch at a time\n",
    "        images, labels = images.to(device),labels.to(device)\n",
    "        predictions = model(images) # predict labels\n",
    "        loss = loss_criterion(predictions, labels) # calculate the loss\n",
    "        \n",
    "        # BACK PROPAGATION OF LOSS to generate updated weights\n",
    "        optimizer.zero_grad() # pytorch accumulates gradients from previous backwards\n",
    "                              # passes by default -- we want to zero them out;\n",
    "                              # you can read online why they have this implementation choice\n",
    "        loss.backward() # compute gradients by using the predictions' grad_fn\n",
    "                        # that was passed to loss_criterion() above -- this is how it\n",
    "                        # knows what model parameters need updating eventually\n",
    "                        # (this is confusing IMO and not obvious to those used to OOP)\n",
    "        optimizer.step() # using gradients just calculated for model parameters, \n",
    "                         # update the weights via the optimizer (which was init with those \n",
    "                         # model parameters)\n",
    "        \n",
    "        running_loss += loss.item()\n",
    "    print(f\"\\tTraining loss: {running_loss/len(trainloader)}\")\n",
    "    model.eval()# Turn off the model training, begin evaluate\n",
    "    #for images, labels in valloader:                   when consider the testset into validation and test\n",
    "    for images, labels in testloader:\n",
    "        # Put the data into GPU\n",
    "        images, labels = images.to(device), labels.to(device)\n",
    "        predictions = model(images) # predict labels\n",
    "        loss_val = loss_criterion(predictions, labels) # calculate the loss\n",
    "        val_running_loss += loss_val.item()\n",
    "    \n",
    "    epochs_training_loss = np.append(epochs_training_loss, running_loss/len(trainloader))\n",
    "    epochs_val_loss = np.append(epochs_val_loss, val_running_loss/len(testloader))\n",
    "    print(f\"\\tValidation loss: {val_running_loss/len(testloader)}\")"
   ]
  },
  {
   "cell_type": "code",
   "execution_count": 9,
   "id": "cf13947f-94d5-4eda-83eb-760994678afb",
   "metadata": {},
   "outputs": [
    {
     "data": {
      "text/plain": [
       "<matplotlib.legend.Legend at 0x2a673d769a0>"
      ]
     },
     "execution_count": 9,
     "metadata": {},
     "output_type": "execute_result"
    },
    {
     "data": {
      "image/png": "[encoded data removed]",
      "text/plain": [
       "<Figure size 720x504 with 1 Axes>"
      ]
     },
     "metadata": {},
     "output_type": "display_data"
    }
   ],
   "source": [
    "#draw the graph\n",
    "plt.figure(figsize=(10,7),facecolor='w')\n",
    "plt.plot(np.array(range(epochs)) + 1.,epochs_training_loss,'o-b',label='train loss',lw =2)\n",
    "plt.plot(np.array(range(epochs)) + 1.,epochs_val_loss,'o-r',label='validation loss',lw =2)\n",
    "plt.title('Loss graph')\n",
    "plt.legend()"
   ]
  },
  {
   "cell_type": "markdown",
   "id": "381fef4d",
   "metadata": {},
   "source": [
    "## Making predictions\n",
    "Once we've trained the model, we can grab an image and pull out information about its predicted class."
   ]
  },
  {
   "cell_type": "code",
   "execution_count": 10,
   "id": "63311c66",
   "metadata": {},
   "outputs": [
    {
     "name": "stdout",
     "output_type": "stream",
     "text": [
      "Target label of image tensor(7)\n",
      "(1, 28, 28)\n"
     ]
    },
    {
     "data": {
      "image/png": "[encoded data removed]",
      "text/plain": [
       "<Figure size 432x288 with 1 Axes>"
      ]
     },
     "metadata": {
      "needs_background": "light"
     },
     "output_type": "display_data"
    },
    {
     "name": "stdout",
     "output_type": "stream",
     "text": [
      "tensor([[3.2315e-37, 1.7155e-20, 1.9109e-25, 1.5711e-16, 1.2415e-27, 5.2732e-25,\n",
      "         0.0000e+00, 1.0000e+00, 2.3066e-22, 3.5721e-30]], device='cuda:0',\n",
      "       grad_fn=<SoftmaxBackward0>)\n",
      "max_prob 1.0\n",
      "Predicted label 7\n"
     ]
    }
   ],
   "source": [
    "# Test the trained model\n",
    "tensor_image, label = next(iter(testloader)) # returns a batch of images\n",
    "print(\"Target label of image\", label[0])\n",
    "first_image = numpy.array(tensor_image, dtype='float')[0] # get the first image in the batch\n",
    "print(first_image.shape)\n",
    "pixels = first_image.reshape((28, 28))\n",
    "plt.imshow(pixels, cmap='gray')\n",
    "plt.show()\n",
    "\n",
    "prediction = model(tensor_image[0].to(device))\n",
    "print(prediction)\n",
    "prediction = prediction.detach().cpu().numpy()\n",
    "max_prob = max(list(numpy.array(prediction)[0]))\n",
    "print('max_prob', max_prob)\n",
    "predicted_label = list(prediction[0]).index(max_prob)\n",
    "print(\"Predicted label\", predicted_label)"
   ]
  },
  {
   "cell_type": "markdown",
   "id": "76902aa3-a340-46a8-b1fd-7d0e7cca4c0b",
   "metadata": {},
   "source": [
    "# 4. In a paragraph, discussion of training vs validation loss for this dataset"
   ]
  },
  {
   "cell_type": "markdown",
   "id": "3a314650-c131-4ddd-aba0-454268ce036c",
   "metadata": {},
   "source": [
    "In our dataset, we trained for 50 epochs.Both the training and validation loss decreased over the 30 epochs run. We expect them to decrease since we are using gradient descent to update the weights to reduce the loss. Since the validation loss is close to the training loss, this means that the model is generalizing to the data - it is able to make good predictions on data it has not seen yet. Then with epoch increases, the training loss decreases, and the validation loss increases. This means the model start overfitting,which means the validation loss diverge from the training loss - as the loss reduces for the training set and increases for the validation set."
   ]
  },
  {
   "cell_type": "markdown",
   "id": "f4c63d60",
   "metadata": {},
   "source": [
    "## Playground\n",
    "\n",
    "What happens when you:\n",
    "1. Use a much smaller learning rate for the model?\n",
    "2. Feed in the entire test dataset to the model, to make predictions? Could you write code to do this, and measure your model performance?\n",
    "3. Train the model on only one epoch?"
   ]
  },
  {
   "cell_type": "markdown",
   "id": "d1acd48d-f97c-473b-ab2c-c337301ddbc1",
   "metadata": {},
   "source": [
    "# 1. Use a much smaller learning rate for the model?"
   ]
  },
  {
   "cell_type": "code",
   "execution_count": 11,
   "id": "ca8cded3-2a1c-4caf-8da9-6f87e79f921b",
   "metadata": {},
   "outputs": [
    {
     "name": "stdout",
     "output_type": "stream",
     "text": [
      "In epoch 0\n",
      "\tTraining loss: 2.285468015081084\n",
      "\tValidation loss: 2.2085886882368926\n",
      "In epoch 1\n",
      "\tTraining loss: 1.9295527427943784\n",
      "\tValidation loss: 1.8137093805203772\n",
      "In epoch 2\n",
      "\tTraining loss: 1.750196508761408\n",
      "\tValidation loss: 1.7372603196247367\n",
      "In epoch 3\n",
      "\tTraining loss: 1.7020776790342351\n",
      "\tValidation loss: 1.7016756671249487\n",
      "In epoch 4\n",
      "\tTraining loss: 1.686536565772506\n",
      "\tValidation loss: 1.713459807596389\n",
      "In epoch 5\n",
      "\tTraining loss: 1.6774238447136463\n",
      "\tValidation loss: 1.6892740567019031\n",
      "In epoch 6\n",
      "\tTraining loss: 1.6712045855105304\n",
      "\tValidation loss: 1.6746525567048673\n",
      "In epoch 7\n",
      "\tTraining loss: 1.6669260720962655\n",
      "\tValidation loss: 1.6754442088922876\n",
      "In epoch 8\n",
      "\tTraining loss: 1.6636028902362914\n",
      "\tValidation loss: 1.6716246559361743\n",
      "In epoch 9\n",
      "\tTraining loss: 1.6597503775726759\n",
      "\tValidation loss: 1.665584655324365\n",
      "In epoch 10\n",
      "\tTraining loss: 1.6574890774958677\n",
      "\tValidation loss: 1.6661260143207137\n",
      "In epoch 11\n",
      "\tTraining loss: 1.6557951089161544\n",
      "\tValidation loss: 1.6610412195229987\n",
      "In epoch 12\n",
      "\tTraining loss: 1.6523320649478481\n",
      "\tValidation loss: 1.6649057105847984\n",
      "In epoch 13\n",
      "\tTraining loss: 1.6514855601640144\n",
      "\tValidation loss: 1.663946121361605\n",
      "In epoch 14\n",
      "\tTraining loss: 1.649727530698024\n",
      "\tValidation loss: 1.6576281148157301\n",
      "In epoch 15\n",
      "\tTraining loss: 1.6473428980628055\n",
      "\tValidation loss: 1.6668738430472696\n",
      "In epoch 16\n",
      "\tTraining loss: 1.6459114838764866\n",
      "\tValidation loss: 1.655577357407588\n",
      "In epoch 17\n",
      "\tTraining loss: 1.6436642175798477\n",
      "\tValidation loss: 1.6538131214251184\n",
      "In epoch 18\n",
      "\tTraining loss: 1.6411679131644112\n",
      "\tValidation loss: 1.6559656752142937\n",
      "In epoch 19\n",
      "\tTraining loss: 1.6391165313690201\n",
      "\tValidation loss: 1.6502008384959712\n",
      "In epoch 20\n",
      "\tTraining loss: 1.6378272931967208\n",
      "\tValidation loss: 1.6454068186936106\n",
      "In epoch 21\n",
      "\tTraining loss: 1.6359229420802233\n",
      "\tValidation loss: 1.6533369372604758\n",
      "In epoch 22\n",
      "\tTraining loss: 1.6347992228292454\n",
      "\tValidation loss: 1.648126388811002\n",
      "In epoch 23\n",
      "\tTraining loss: 1.6331654001654847\n",
      "\tValidation loss: 1.6469826128832095\n",
      "In epoch 24\n",
      "\tTraining loss: 1.6322221636517977\n",
      "\tValidation loss: 1.662350691048203\n",
      "In epoch 25\n",
      "\tTraining loss: 1.6309007471050028\n",
      "\tValidation loss: 1.6470438310295155\n",
      "In epoch 26\n",
      "\tTraining loss: 1.6304181746836663\n",
      "\tValidation loss: 1.6496045703341247\n",
      "In epoch 27\n",
      "\tTraining loss: 1.629119399768203\n",
      "\tValidation loss: 1.6462364758655523\n",
      "In epoch 28\n",
      "\tTraining loss: 1.6281024677667029\n",
      "\tValidation loss: 1.639072946682098\n",
      "In epoch 29\n",
      "\tTraining loss: 1.627472852974304\n",
      "\tValidation loss: 1.6416508050481224\n",
      "In epoch 30\n",
      "\tTraining loss: 1.625904910854185\n",
      "\tValidation loss: 1.6410614168568023\n",
      "In epoch 31\n",
      "\tTraining loss: 1.625194852413145\n",
      "\tValidation loss: 1.6390304284490598\n",
      "In epoch 32\n",
      "\tTraining loss: 1.6252605038156895\n",
      "\tValidation loss: 1.6395068965899717\n",
      "In epoch 33\n",
      "\tTraining loss: 1.6243591594543538\n",
      "\tValidation loss: 1.6369540114311656\n",
      "In epoch 34\n",
      "\tTraining loss: 1.6233638775374082\n",
      "\tValidation loss: 1.6408698095637522\n",
      "In epoch 35\n",
      "\tTraining loss: 1.62261586529868\n",
      "\tValidation loss: 1.6645305308566731\n",
      "In epoch 36\n",
      "\tTraining loss: 1.6216970452113446\n",
      "\tValidation loss: 1.6411608419600565\n",
      "In epoch 37\n",
      "\tTraining loss: 1.6207508967121018\n",
      "\tValidation loss: 1.6368818662728473\n",
      "In epoch 38\n",
      "\tTraining loss: 1.6196411281252212\n",
      "\tValidation loss: 1.6399994177423465\n",
      "In epoch 39\n",
      "\tTraining loss: 1.619717662268356\n",
      "\tValidation loss: 1.6390328384508752\n",
      "In epoch 40\n",
      "\tTraining loss: 1.6188881692093318\n",
      "\tValidation loss: 1.6537367788849362\n",
      "In epoch 41\n",
      "\tTraining loss: 1.6180529898163607\n",
      "\tValidation loss: 1.6384937292451311\n",
      "In epoch 42\n",
      "\tTraining loss: 1.617958457993546\n",
      "\tValidation loss: 1.6361971205207193\n",
      "In epoch 43\n",
      "\tTraining loss: 1.616827527343083\n",
      "\tValidation loss: 1.6385072272294645\n",
      "In epoch 44\n",
      "\tTraining loss: 1.6166441285533946\n",
      "\tValidation loss: 1.6358958087908995\n",
      "In epoch 45\n",
      "\tTraining loss: 1.616498834924149\n",
      "\tValidation loss: 1.6459659869503822\n",
      "In epoch 46\n",
      "\tTraining loss: 1.6159133387526978\n",
      "\tValidation loss: 1.6326387619516651\n",
      "In epoch 47\n",
      "\tTraining loss: 1.6160460682565978\n",
      "\tValidation loss: 1.6309110184384\n",
      "In epoch 48\n",
      "\tTraining loss: 1.61437682467483\n",
      "\tValidation loss: 1.634773883849952\n",
      "In epoch 49\n",
      "\tTraining loss: 1.6145008297871426\n",
      "\tValidation loss: 1.6338364212376297\n"
     ]
    }
   ],
   "source": [
    "# Create the custom network above, define the loss criterion, and choose an optimizer to learn weights\n",
    "model = Classifier()\n",
    "model = model.to(device)\n",
    "loss_criterion = nn.CrossEntropyLoss().to(device)\n",
    "optimizer = optim.SGD(model.parameters(), lr=0.05)\n",
    "\n",
    "# Train the network here\n",
    "epochs = 50\n",
    "\n",
    "# This two lists is used in graphing.\n",
    "epochs_training_loss = np.array([], dtype='float64')\n",
    "epochs_val_loss = np.array([], dtype='float64')\n",
    "\n",
    "for e in range(epochs):\n",
    "    print(\"In epoch\", e)\n",
    "    running_loss = 0\n",
    "    val_running_loss = 0\n",
    "    model.train()\n",
    "    for images, labels in trainloader: # processing one batch at a time\n",
    "        images, labels = images.to(device),labels.to(device)\n",
    "        predictions = model(images) # predict labels\n",
    "        loss = loss_criterion(predictions, labels) # calculate the loss\n",
    "        \n",
    "        # BACK PROPAGATION OF LOSS to generate updated weights\n",
    "        optimizer.zero_grad() # pytorch accumulates gradients from previous backwards\n",
    "                              # passes by default -- we want to zero them out;\n",
    "                              # you can read online why they have this implementation choice\n",
    "        loss.backward() # compute gradients by using the predictions' grad_fn\n",
    "                        # that was passed to loss_criterion() above -- this is how it\n",
    "                        # knows what model parameters need updating eventually\n",
    "                        # (this is confusing IMO and not obvious to those used to OOP)\n",
    "        optimizer.step() # using gradients just calculated for model parameters, \n",
    "                         # update the weights via the optimizer (which was init with those \n",
    "                         # model parameters)\n",
    "        \n",
    "        running_loss += loss.item()\n",
    "    print(f\"\\tTraining loss: {running_loss/len(trainloader)}\")\n",
    "    model.eval()# Turn off the model training, begin evaluate\n",
    "    for images, labels in testloader:\n",
    "        # Put the data into GPU\n",
    "        images, labels = images.to(device), labels.to(device)\n",
    "        predictions = model(images) # predict labels\n",
    "        loss_val = loss_criterion(predictions, labels) # calculate the loss\n",
    "        val_running_loss += loss_val.item()\n",
    "    \n",
    "    epochs_training_loss = np.append(epochs_training_loss, running_loss/len(trainloader))\n",
    "    epochs_val_loss = np.append(epochs_val_loss, val_running_loss/len(testloader))\n",
    "    print(f\"\\tValidation loss: {val_running_loss/len(testloader)}\")"
   ]
  },
  {
   "cell_type": "code",
   "execution_count": 12,
   "id": "05e65321-2587-4b48-a2a7-cbb5a3353f1c",
   "metadata": {},
   "outputs": [
    {
     "data": {
      "text/plain": [
       "<matplotlib.legend.Legend at 0x2a673cb6eb0>"
      ]
     },
     "execution_count": 12,
     "metadata": {},
     "output_type": "execute_result"
    },
    {
     "data": {
      "image/png": "[encoded data removed]",
      "text/plain": [
       "<Figure size 720x504 with 1 Axes>"
      ]
     },
     "metadata": {},
     "output_type": "display_data"
    }
   ],
   "source": [
    "#draw the graph\n",
    "plt.figure(figsize=(10,7),facecolor='w')\n",
    "plt.plot(np.array(range(epochs)) + 1.,epochs_training_loss,'o-b',label='train loss',lw =2)\n",
    "plt.plot(np.array(range(epochs)) + 1.,epochs_val_loss,'o-r',label='validation loss',lw =2)\n",
    "plt.title('Loss graph')\n",
    "plt.legend()"
   ]
  },
  {
   "cell_type": "markdown",
   "id": "e9fa489a-cd29-4403-b1af-218e9a63238a",
   "metadata": {},
   "source": [
    "we can see that compare the high learning rate graph, the graph looks more smooth, because we set a more lower pace to the gradient descendent process, which means the process may not jump around two sides. Thus, avoiding zigzag moving, the curve looks more smooth."
   ]
  },
  {
   "cell_type": "markdown",
   "id": "96d1d198-89b5-4670-945c-88686694fed9",
   "metadata": {},
   "source": []
  },
  {
   "cell_type": "markdown",
   "id": "c4e7ca2a-c107-4e45-9f66-7b57b5a890cd",
   "metadata": {},
   "source": [
    "# 2. Feed in the entire test dataset to the model, to make predictions? Could you write code to do this, and measure your model performance?"
   ]
  },
  {
   "cell_type": "code",
   "execution_count": 24,
   "id": "39c08a06-9f83-40e9-af22-c1d064790e50",
   "metadata": {},
   "outputs": [],
   "source": [
    "testloader1 = torch.utils.data.DataLoader(testset, batch_size=1, shuffle=True)"
   ]
  },
  {
   "cell_type": "code",
   "execution_count": 25,
   "id": "70ed57e7-9565-4857-afef-bc64adbf6089",
   "metadata": {},
   "outputs": [
    {
     "name": "stdout",
     "output_type": "stream",
     "text": [
      "The number of right prediction is 7207\n",
      "The number of total prediction is 10000\n",
      "The accuracy is 0.7207\n"
     ]
    }
   ],
   "source": [
    "\n",
    "model.eval() # Turn off the model training, begin evaluate\n",
    "num_right_predict = 0\n",
    "num_predict = 0\n",
    "\n",
    "for image, label in testloader1:\n",
    "    image = image.cuda()\n",
    "    prediction = model(image)\n",
    "    prediction = prediction.cpu().detach().numpy()\n",
    "    if np.argmax(prediction) == label:\n",
    "        num_right_predict += 1\n",
    "    num_predict += 1\n",
    "\n",
    "\n",
    "print('The number of right prediction is {}'.format(num_right_predict))\n",
    "print('The number of total prediction is {}'.format(num_predict))\n",
    "print('The accuracy is {}'.format(num_right_predict/num_predict))"
   ]
  },
  {
   "cell_type": "code",
   "execution_count": 19,
   "id": "16755078-38ca-433c-a0bb-724cafb404f0",
   "metadata": {},
   "outputs": [
    {
     "data": {
      "text/plain": [
       "10000"
      ]
     },
     "execution_count": 19,
     "metadata": {},
     "output_type": "execute_result"
    }
   ],
   "source": [
    "len(testloader1)"
   ]
  },
  {
   "cell_type": "code",
   "execution_count": 23,
   "id": "f1fdf029-278c-450a-be8a-283a69840855",
   "metadata": {},
   "outputs": [
    {
     "data": {
      "text/plain": [
       "157"
      ]
     },
     "execution_count": 23,
     "metadata": {},
     "output_type": "execute_result"
    }
   ],
   "source": [
    "len(testloader)"
   ]
  },
  {
   "cell_type": "code",
   "execution_count": 20,
   "id": "aea2ab72-e14e-4447-bbe8-13bfef7f941d",
   "metadata": {},
   "outputs": [
    {
     "data": {
      "text/plain": [
       "torch.Size([1, 1, 28, 28])"
      ]
     },
     "execution_count": 20,
     "metadata": {},
     "output_type": "execute_result"
    }
   ],
   "source": [
    "image.size()"
   ]
  },
  {
   "cell_type": "markdown",
   "id": "cb0937c5-0c2d-4c8d-9c80-7644ff542bf8",
   "metadata": {},
   "source": [
    "# 3. Train the model on only one epoch?"
   ]
  },
  {
   "cell_type": "code",
   "execution_count": 21,
   "id": "49235921-6fa5-45ce-9b36-6d9509c13a88",
   "metadata": {},
   "outputs": [
    {
     "name": "stdout",
     "output_type": "stream",
     "text": [
      "In epoch 0\n",
      "\tTraining loss: 1.8771251836565257\n",
      "\tValidation loss: 1.7418818367514641\n"
     ]
    }
   ],
   "source": [
    "# Create the custom network above, define the loss criterion, and choose an optimizer to learn weights\n",
    "model = Classifier()\n",
    "model = model.to(device)\n",
    "loss_criterion = nn.CrossEntropyLoss().to(device)\n",
    "optimizer = optim.SGD(model.parameters(), lr=0.3)\n",
    "\n",
    "# Train the network here\n",
    "epochs = 1\n",
    "\n",
    "# This two lists is used in graphing.\n",
    "epochs_training_loss = np.array([], dtype='float64')\n",
    "epochs_val_loss = np.array([], dtype='float64')\n",
    "\n",
    "for e in range(epochs):\n",
    "    print(\"In epoch\", e)\n",
    "    running_loss = 0\n",
    "    val_running_loss = 0\n",
    "    model.train()\n",
    "    for images, labels in trainloader: # processing one batch at a time\n",
    "        images, labels = images.to(device),labels.to(device)\n",
    "        predictions = model(images) # predict labels\n",
    "        loss = loss_criterion(predictions, labels) # calculate the loss\n",
    "        \n",
    "        # BACK PROPAGATION OF LOSS to generate updated weights\n",
    "        optimizer.zero_grad() # pytorch accumulates gradients from previous backwards\n",
    "                              # passes by default -- we want to zero them out;\n",
    "                              # you can read online why they have this implementation choice\n",
    "        loss.backward() # compute gradients by using the predictions' grad_fn\n",
    "                        # that was passed to loss_criterion() above -- this is how it\n",
    "                        # knows what model parameters need updating eventually\n",
    "                        # (this is confusing IMO and not obvious to those used to OOP)\n",
    "        optimizer.step() # using gradients just calculated for model parameters, \n",
    "                         # update the weights via the optimizer (which was init with those \n",
    "                         # model parameters)\n",
    "        \n",
    "        running_loss += loss.item()\n",
    "    print(f\"\\tTraining loss: {running_loss/len(trainloader)}\")\n",
    "    model.eval()# Turn off the model training, begin evaluate\n",
    "    for images, labels in testloader:\n",
    "        # Put the data into GPU\n",
    "        images, labels = images.to(device), labels.to(device)\n",
    "        predictions = model(images) # predict labels\n",
    "        loss_val = loss_criterion(predictions, labels) # calculate the loss\n",
    "        val_running_loss += loss_val.item()\n",
    "    \n",
    "    epochs_training_loss = np.append(epochs_training_loss, running_loss/len(trainloader))\n",
    "    epochs_val_loss = np.append(epochs_val_loss, val_running_loss/len(testloader))\n",
    "    print(f\"\\tValidation loss: {val_running_loss/len(testloader)}\")"
   ]
  },
  {
   "cell_type": "code",
   "execution_count": 22,
   "id": "fc24c7e1-0aaa-46ef-a1f0-8a5a4b489ff8",
   "metadata": {},
   "outputs": [
    {
     "data": {
      "text/plain": [
       "<matplotlib.legend.Legend at 0x2a673ce19d0>"
      ]
     },
     "execution_count": 22,
     "metadata": {},
     "output_type": "execute_result"
    },
    {
     "data": {
      "image/png": "[encoded data removed]",
      "text/plain": [
       "<Figure size 720x504 with 1 Axes>"
      ]
     },
     "metadata": {},
     "output_type": "display_data"
    }
   ],
   "source": [
    "#draw the graph\n",
    "plt.figure(figsize=(10,7),facecolor='w')\n",
    "plt.plot(np.array(range(epochs)) + 1.,epochs_training_loss,'o-b',label='train loss',lw =2)\n",
    "plt.plot(np.array(range(epochs)) + 1.,epochs_val_loss,'o-r',label='validation loss',lw =2)\n",
    "plt.title('Loss graph')\n",
    "plt.legend()"
   ]
  },
  {
   "cell_type": "code",
   "execution_count": null,
   "id": "d28d1d65-4a2a-4b8d-ab5b-1e663507cd19",
   "metadata": {},
   "outputs": [],
   "source": []
  }
 ],
 "metadata": {
  "kernelspec": {
   "display_name": "Python 3 (ipykernel)",
   "language": "python",
   "name": "python3"
  },
  "language_info": {
   "codemirror_mode": {
    "name": "ipython",
    "version": 3
   },
   "file_extension": ".py",
   "mimetype": "text/x-python",
   "name": "python",
   "nbconvert_exporter": "python",
   "pygments_lexer": "ipython3",
   "version": "3.9.7"
  }
 },
 "nbformat": 4,
 "nbformat_minor": 5
}
